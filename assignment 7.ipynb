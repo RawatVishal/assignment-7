{
 "cells": [
  {
   "cell_type": "code",
   "execution_count": 1,
   "id": "f5519086",
   "metadata": {},
   "outputs": [],
   "source": [
    "#Q1\n",
    "# Answer = re.compile() is used for generating regex objects so that we can find the occurrence of various string without rewriting it"
   ]
  },
  {
   "cell_type": "code",
   "execution_count": 2,
   "id": "c043b287",
   "metadata": {},
   "outputs": [],
   "source": [
    "#Q2\n",
    "#Answer because in python backslashes used for escape symbols with some special characters so we use raw regex by putting 'r' in the statement."
   ]
  },
  {
   "cell_type": "code",
   "execution_count": 3,
   "id": "3fd74366",
   "metadata": {},
   "outputs": [],
   "source": [
    "#Q3\n",
    "#Answer = it return only the first match of the match from the targeted string."
   ]
  },
  {
   "cell_type": "code",
   "execution_count": 4,
   "id": "c187cd07",
   "metadata": {},
   "outputs": [],
   "source": [
    "#Q4\n",
    "#Answer = group() method is used to get the match from the targeted string ."
   ]
  },
  {
   "cell_type": "code",
   "execution_count": 5,
   "id": "5ae03ce3",
   "metadata": {},
   "outputs": [],
   "source": [
    "#Q5\n",
    "#Answer = group 0 - return the whole matching expression, group1 - first parenthesis that matching the expression ,group 2-second parenthisis that matching the whole expression"
   ]
  },
  {
   "cell_type": "code",
   "execution_count": 6,
   "id": "d8f94755",
   "metadata": {},
   "outputs": [],
   "source": [
    "#Q6\n",
    "#Answer = parenthesis and periods are used when we want to select a particular match so that we have to excape the (and ) character with backslash"
   ]
  },
  {
   "cell_type": "code",
   "execution_count": 7,
   "id": "6da3837c",
   "metadata": {},
   "outputs": [],
   "source": [
    "#Q7\n",
    "#Answer = if the regex has no groups then a list of string will be obtained and if the regex has groups then we get a list of tuples of strings."
   ]
  },
  {
   "cell_type": "code",
   "execution_count": 8,
   "id": "62c45157",
   "metadata": {},
   "outputs": [],
   "source": [
    "#Q8\n",
    "#answer = it means between two groups or either "
   ]
  },
  {
   "cell_type": "code",
   "execution_count": 9,
   "id": "13ec3c0e",
   "metadata": {},
   "outputs": [],
   "source": [
    "#Q9\n",
    "#Answer = each character is either a metacharacter which is having a special meaning or a regular literal"
   ]
  },
  {
   "cell_type": "code",
   "execution_count": 10,
   "id": "2a512570",
   "metadata": {},
   "outputs": [],
   "source": [
    "#Q10\n",
    "#answer =  + it matches with one or more and * matches with zero or more "
   ]
  },
  {
   "cell_type": "code",
   "execution_count": 11,
   "id": "f0fe6cfa",
   "metadata": {},
   "outputs": [],
   "source": [
    "#Q11\n",
    "#answer = {4} it matches exactly four instances and {4,5} matches 4 and 5 instances."
   ]
  },
  {
   "cell_type": "code",
   "execution_count": 12,
   "id": "e5239b5b",
   "metadata": {},
   "outputs": [],
   "source": [
    "#Q12\n",
    "#answer = \\d = matches with single digit,\\w = matches with single word,\\s = matches with single with space character "
   ]
  },
  {
   "cell_type": "code",
   "execution_count": 13,
   "id": "c654b579",
   "metadata": {},
   "outputs": [],
   "source": [
    "#Q13\n",
    "#Answer = \\D ,\\W,\\S matches with character which do not match with single digit,word and space."
   ]
  },
  {
   "cell_type": "code",
   "execution_count": 14,
   "id": "ca0bb9e6",
   "metadata": {},
   "outputs": [],
   "source": [
    "#Q14\n",
    "#Answer = (.*?) matches any character any number of times (*), as least time as possible to make the regex match (?). You get a match on any string, but you capture a blank string because of the question mark"
   ]
  },
  {
   "cell_type": "code",
   "execution_count": 15,
   "id": "87c875f4",
   "metadata": {},
   "outputs": [],
   "source": [
    "#Q15\n",
    "#Answer = Either [0-9a-z] or [a-z0-9]"
   ]
  },
  {
   "cell_type": "code",
   "execution_count": 16,
   "id": "1b797d89",
   "metadata": {},
   "outputs": [],
   "source": [
    "#Q16\n",
    "#Answer = Pass re.IGNORECASE as the second argument to re.compile() will make the matching case insensitive."
   ]
  },
  {
   "cell_type": "code",
   "execution_count": 17,
   "id": "fc2fcbc9",
   "metadata": {},
   "outputs": [],
   "source": [
    "#Q17\n",
    "#Answer = The . character matches any character except the newline character and re.DOTALL is passed as the second argument to re.compile(), then the dot will also match newline characters"
   ]
  },
  {
   "cell_type": "code",
   "execution_count": 18,
   "id": "ea6cc308",
   "metadata": {},
   "outputs": [],
   "source": [
    "#Q18\n",
    "#Answer = 'X drummers, X pipers, five rings, X hens '"
   ]
  },
  {
   "cell_type": "code",
   "execution_count": 19,
   "id": "2647d172",
   "metadata": {},
   "outputs": [],
   "source": [
    "#Q19\n",
    "#Answer = it is used to add whitespace and comment passed to the string"
   ]
  },
  {
   "cell_type": "code",
   "execution_count": 20,
   "id": "e6920b3e",
   "metadata": {},
   "outputs": [],
   "source": [
    "#Q20\n",
    "#Answer = re.compile(r'^\\d{1,3}(,\\d{3})*$') will create this regex"
   ]
  },
  {
   "cell_type": "code",
   "execution_count": 21,
   "id": "811b12fe",
   "metadata": {},
   "outputs": [],
   "source": [
    "#Q21\n",
    "#Answer = re.compile(r'\\s([A-Z]\\w+)\\s(Watanabe)')"
   ]
  },
  {
   "cell_type": "code",
   "execution_count": 22,
   "id": "5bb5ac56",
   "metadata": {},
   "outputs": [],
   "source": [
    "#Q22\n",
    "#Answer =re.compile(r'(Alice|Bob|Carol)\\s(eats|pets|throws)\\s(apples|cats|baseballs).', re.IGNORECASE)"
   ]
  },
  {
   "cell_type": "code",
   "execution_count": null,
   "id": "5dddbd25",
   "metadata": {},
   "outputs": [],
   "source": []
  }
 ],
 "metadata": {
  "kernelspec": {
   "display_name": "Python 3 (ipykernel)",
   "language": "python",
   "name": "python3"
  },
  "language_info": {
   "codemirror_mode": {
    "name": "ipython",
    "version": 3
   },
   "file_extension": ".py",
   "mimetype": "text/x-python",
   "name": "python",
   "nbconvert_exporter": "python",
   "pygments_lexer": "ipython3",
   "version": "3.9.7"
  }
 },
 "nbformat": 4,
 "nbformat_minor": 5
}
